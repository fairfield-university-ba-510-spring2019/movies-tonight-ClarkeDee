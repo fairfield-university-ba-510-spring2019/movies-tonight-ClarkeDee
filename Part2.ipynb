{
 "cells": [
  {
   "cell_type": "markdown",
   "metadata": {},
   "source": [
    "# Movies Tonight Part 2: SQL DDL"
   ]
  },
  {
   "cell_type": "code",
   "execution_count": 75,
   "metadata": {},
   "outputs": [
    {
     "name": "stdout",
     "output_type": "stream",
     "text": [
      "The sql extension is already loaded. To reload it, use:\n",
      "  %reload_ext sql\n"
     ]
    }
   ],
   "source": [
    "%load_ext sql"
   ]
  },
  {
   "cell_type": "markdown",
   "metadata": {},
   "source": [
    "1. **Create / Reset a SQLite database.** \n",
    "    - Name the database `Movies.db`.\n",
    "    - Add `DROP TABLE IF EXISTS` queries make sure you have a blank database. \n",
    "    - Use SQL comments to ay what each line does"
   ]
  },
  {
   "cell_type": "code",
   "execution_count": 76,
   "metadata": {},
   "outputs": [
    {
     "data": {
      "text/plain": [
       "'Connected: @Movies.db'"
      ]
     },
     "execution_count": 76,
     "metadata": {},
     "output_type": "execute_result"
    }
   ],
   "source": [
    "%%sql\n",
    "sqlite:///Movies.db\n"
   ]
  },
  {
   "cell_type": "code",
   "execution_count": 77,
   "metadata": {},
   "outputs": [
    {
     "name": "stdout",
     "output_type": "stream",
     "text": [
      " * sqlite:///Movies.db\n",
      "Done.\n",
      "Done.\n",
      "Done.\n",
      "Done.\n",
      "Done.\n"
     ]
    },
    {
     "data": {
      "text/plain": [
       "[]"
      ]
     },
     "execution_count": 77,
     "metadata": {},
     "output_type": "execute_result"
    }
   ],
   "source": [
    "%%sql\n",
    "DROP TABLE IF EXISTS MOVIES;\n",
    "DROP TABLE IF EXISTS THEATRES;\n",
    "DROP TABLE IF EXISTS SHOWS;\n",
    "DROP TABLE IF EXISTS ARTISTS;\n",
    "DROP TABLE IF EXISTS CREDITS;\n"
   ]
  },
  {
   "cell_type": "markdown",
   "metadata": {},
   "source": [
    "2. **Use SQL Create Table commands to implement the table designs you created in Part 1.** \n",
    "    - Take care with your data types! (You do not need to populate them yet. That’s Part 3.) \n",
    "    - Use a surrogate key for the primary key of each table. The data type descriptor is `INTEGER PRIMARY KEY`.\n",
    "    - If you make a mistake, recreate the database from scratch using your code from step 1 above. "
   ]
  },
  {
   "cell_type": "code",
   "execution_count": 78,
   "metadata": {},
   "outputs": [
    {
     "name": "stdout",
     "output_type": "stream",
     "text": [
      " * sqlite:///Movies.db\n",
      "Done.\n"
     ]
    },
    {
     "data": {
      "text/plain": [
       "[]"
      ]
     },
     "execution_count": 78,
     "metadata": {},
     "output_type": "execute_result"
    }
   ],
   "source": [
    "%%sql\n",
    "CREATE TABLE MOVIES(\n",
    "    MID INTEGER PRIMARY KEY,\n",
    "    MTitle TEXT NOT NULL,\n",
    "    Rating TEXT \n",
    ");"
   ]
  },
  {
   "cell_type": "code",
   "execution_count": 79,
   "metadata": {},
   "outputs": [
    {
     "name": "stdout",
     "output_type": "stream",
     "text": [
      " * sqlite:///Movies.db\n",
      "Done.\n"
     ]
    },
    {
     "data": {
      "text/plain": [
       "[]"
      ]
     },
     "execution_count": 79,
     "metadata": {},
     "output_type": "execute_result"
    }
   ],
   "source": [
    "%%sql\n",
    "CREATE TABLE THEATRES(\n",
    "    TID INTEGER PRIMARY KEY,\n",
    "    TName TEXT NOT NULL,\n",
    "    Phone TEXT,\n",
    "    Location TEXT NOT NULL\n",
    "    \n",
    ");"
   ]
  },
  {
   "cell_type": "code",
   "execution_count": 80,
   "metadata": {},
   "outputs": [
    {
     "name": "stdout",
     "output_type": "stream",
     "text": [
      " * sqlite:///Movies.db\n",
      "Done.\n"
     ]
    },
    {
     "data": {
      "text/plain": [
       "[]"
      ]
     },
     "execution_count": 80,
     "metadata": {},
     "output_type": "execute_result"
    }
   ],
   "source": [
    "%%sql\n",
    "CREATE TABLE ARTISTS (\n",
    "    AID INTERGER PRIMARY KEY,\n",
    "    AName TEXT NOT NULL\n",
    ");"
   ]
  },
  {
   "cell_type": "code",
   "execution_count": 81,
   "metadata": {},
   "outputs": [
    {
     "name": "stdout",
     "output_type": "stream",
     "text": [
      " * sqlite:///Movies.db\n",
      "Done.\n"
     ]
    },
    {
     "data": {
      "text/plain": [
       "[]"
      ]
     },
     "execution_count": 81,
     "metadata": {},
     "output_type": "execute_result"
    }
   ],
   "source": [
    "%%sql\n",
    "CREATE TABLE SHOWS(\n",
    "    SID INTEGER PRIMARY KEY, \n",
    "    MID INTEGER NOT NULL,\n",
    "    TID INTERGER NOT NULL,\n",
    "    STime TEXT NOT NULL,\n",
    "    FOREIGN KEY (MID) REFERENCES MOVIES(MID),\n",
    "    FOREIGN KEY (TID) REFERENCES THEATRES (TID)\n",
    "    \n",
    ");"
   ]
  },
  {
   "cell_type": "code",
   "execution_count": 83,
   "metadata": {},
   "outputs": [
    {
     "name": "stdout",
     "output_type": "stream",
     "text": [
      " * sqlite:///Movies.db\n",
      "Done.\n"
     ]
    },
    {
     "data": {
      "text/plain": [
       "[]"
      ]
     },
     "execution_count": 83,
     "metadata": {},
     "output_type": "execute_result"
    }
   ],
   "source": [
    "%%sql\n",
    "CREATE TABLE CREDITS(\n",
    "    CID INTEGER PRIMARY KEY,\n",
    "    CCode TEXT NOT NULL,\n",
    "    AID INTEGER NOT NULL,\n",
    "    MID INTEGER NOT NULL,\n",
    "    FOREIGN KEY (MID) REFERENCES MOVIES(MID),\n",
    "    FOREIGN KEY (AID) REFERENCES ARTISTS(AID)  \n",
    ");"
   ]
  },
  {
   "cell_type": "markdown",
   "metadata": {},
   "source": [
    "3. **Use SQL ALTER TABLE statements to add the foreign key constraints from your ERD.**  \n",
    "Take care that each constraint has to have a unique name."
   ]
  },
  {
   "cell_type": "code",
   "execution_count": 21,
   "metadata": {},
   "outputs": [
    {
     "name": "stdout",
     "output_type": "stream",
     "text": [
      " * sqlite:///Movies.db\n",
      "(sqlite3.OperationalError) near \"MODIFY\": syntax error [SQL: 'ALTER TABLE MOVIES MODIFY COLUMN \\nMTitle TEXT NOT NULL;'] (Background on this error at: http://sqlalche.me/e/e3q8)\n"
     ]
    }
   ],
   "source": []
  },
  {
   "cell_type": "markdown",
   "metadata": {},
   "source": [
    "4. **Save, add, commit, and push your work to GitHub.**  \n",
    "Use the commit summary comment \"Completed Part 2\"."
   ]
  },
  {
   "cell_type": "markdown",
   "metadata": {},
   "source": [
    "**Diandre C.**"
   ]
  },
  {
   "cell_type": "code",
   "execution_count": null,
   "metadata": {},
   "outputs": [],
   "source": []
  }
 ],
 "metadata": {
  "kernelspec": {
   "display_name": "Python 3",
   "language": "python",
   "name": "python3"
  },
  "language_info": {
   "codemirror_mode": {
    "name": "ipython",
    "version": 3
   },
   "file_extension": ".py",
   "mimetype": "text/x-python",
   "name": "python",
   "nbconvert_exporter": "python",
   "pygments_lexer": "ipython3",
   "version": "3.6.5"
  }
 },
 "nbformat": 4,
 "nbformat_minor": 2
}
